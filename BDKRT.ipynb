{
 "cells": [
  {
   "cell_type": "markdown",
   "metadata": {},
   "source": [
    "# Question4, Uncalibrated\n",
    "First we do some imports. I am not using some of the packages but may be useful in the future."
   ]
  },
  {
   "cell_type": "code",
   "execution_count": 1,
   "metadata": {},
   "outputs": [],
   "source": [
    "from IPython.core.interactiveshell import InteractiveShell\n",
    "InteractiveShell.ast_node_interactivity = \"all\"\n",
    "import numpy as np\n",
    "import scipy as sp\n",
    "import pandas as pd\n",
    "import quantecon as qe\n",
    "import matplotlib.pyplot as plt\n",
    "%matplotlib inline\n",
    "from numba import njit, prange\n",
    "from mpl_toolkits.mplot3d.axes3d import Axes3D\n",
    "from matplotlib import cm\n",
    "from dataclasses import dataclass\n",
    "from typing import Any\n",
    "\n",
    "Array = Any\n",
    "Distribution = Any"
   ]
  },
  {
   "cell_type": "markdown",
   "metadata": {
    "pycharm": {
     "name": "#%% md\n"
    }
   },
   "source": [
    "Model setup: primitives"
   ]
  },
  {
   "cell_type": "code",
   "execution_count": 2,
   "metadata": {
    "pycharm": {
     "name": "#%%\n"
    }
   },
   "outputs": [],
   "source": [
    "@dataclass\n",
    "class Primitives:\n",
    "    \n",
    "    epsilon: float #price elasticity\n",
    "    logabar: float #shift parameter of Markov process\n",
    "    v: float #markup of fixed cost\n",
    "    beta: float #discount factor\n",
    "    tau: float #tariff\n",
    "    rho: float #persistent parameter of Markov process\n",
    "    sigma: float #std of Markov process\n",
    "    xi: float #shipping cost\n",
    "    f0: float #fixed export cost of starter\n",
    "    f1: float #fixed export cost of continue\n",
    "    grid_size: int #grid size of productivity and fixed cost\n",
    "\n",
    "    def f_probs(self, value, B, v, grid_size): # here I changed Fm(f) to (f/fmv)^(1/(1-v)), otherwise the prob is negative\n",
    "        prob = np.zeros(grid_size)\n",
    "        for i in range(len(value) - 1):\n",
    "            prob[i] = (value[i+1]/B)**(1/(1 - v)) - (value[i]/B)**(1/(1 - v))\n",
    "        return prob\n",
    "\n",
    "    def __post_init__(self):\n",
    "        self.mc = qe.markov.tauchen(\n",
    "                rho=self.rho, sigma_u=self.sigma, b=self.logabar, m=4, n=self.grid_size\n",
    "        )\n",
    "        self.a_vals = np.exp(self.mc.state_values)\n",
    "        # conditional probabilities\n",
    "        self.G = self.mc.P\n",
    "        self.stationary_distribution_a = self.mc.stationary_distributions.flatten()\n",
    "\n",
    "        self.F0 = np.linspace(0, self.f0*self.v, self.grid_size+1)\n",
    "        self.F1 = np.linspace(0, self.f1*self.v, self.grid_size+1)\n",
    "        self.f0_probs = self.f_probs(self.F0, self.f0*self.v, self.v, self.grid_size)\n",
    "        self.f1_probs = self.f_probs(self.F1, self.f1*self.v, self.v, self.grid_size)\n",
    "        self.F0 = self.F0[1:]\n",
    "        self.F1 = self.F1[1:]"
   ]
  },
  {
   "cell_type": "markdown",
   "metadata": {
    "pycharm": {
     "name": "#%% md\n"
    }
   },
   "source": [
    "Model setup: returns"
   ]
  },
  {
   "cell_type": "code",
   "execution_count": 3,
   "metadata": {
    "pycharm": {
     "name": "#%%\n"
    }
   },
   "outputs": [],
   "source": [
    "@dataclass\n",
    "class Result:\n",
    "    esp: float # exporter sales premium, here define as mean(pi(exporter)/pi(nonexporter)) with same a_value.\n",
    "    a_vals: Array #a values\n",
    "    F0: Array #cost of starters\n",
    "    F1: Array #cost of continue\n",
    "    f0_probs: Array #pdf of starters\n",
    "    f1_probs: Array #pdf of continue\n",
    "    G: Array #transition matrix of a_vals\n",
    "    sda: Array #stationary distribution of a\n",
    "    v0: Array # value function new starter\n",
    "    v1: Array # value function continuation\n",
    "    m0: Array # entry decision rule\n",
    "    m1: Array # continue decision rule\n",
    "    pi0: Array #revenue of non exporters\n",
    "    pi1: Array #revenue of exporters\n",
    "    mei: float # mean export intensity among exporters"
   ]
  },
  {
   "cell_type": "markdown",
   "metadata": {
    "pycharm": {
     "name": "#%% md\n"
    }
   },
   "source": [
    "Solving model"
   ]
  },
  {
   "cell_type": "code",
   "execution_count": 4,
   "metadata": {
    "pycharm": {
     "name": "#%%\n"
    }
   },
   "outputs": [],
   "source": [
    "@dataclass\n",
    "class Tybout(Primitives):\n",
    "    tol: float = 1e-6\n",
    "    max_iter: int = 1e4\n",
    "    verbose: bool = True\n",
    "    print_skip: int = 1e3\n",
    "\n",
    "    def __post_init__(self):\n",
    "        super().__post_init__()\n",
    "        self.p0 = np.zeros(self.grid_size)\n",
    "        self.p1 = np.zeros(self.grid_size)\n",
    "        self.pi0 = np.zeros(self.grid_size)\n",
    "        self.pi1 = np.zeros(self.grid_size)\n",
    "        for i in range(len(self.a_vals)):\n",
    "            self.p0[i] = self.price(self.a_vals[i], 0)\n",
    "            self.p1[i] = self.price(self.a_vals[i], 1)\n",
    "            self.pi0[i] = self.profit(self.a_vals[i], 0, self.p0[i])\n",
    "            self.pi1[i] = self.profit(self.a_vals[i], 1, self.p1[i])\n",
    "        self.v0 = np.ones((self.grid_size, self.grid_size))\n",
    "        self.v1 = np.ones((self.grid_size, self.grid_size))\n",
    "\n",
    "    def price(self, a, m):\n",
    "        p = self.epsilon/(a * (self.epsilon - 1))*(1 + (self.tau * self.xi)**(-self.epsilon))/(1 + m * self.xi**(1 - self.epsilon) * self.tau**(-self.epsilon))\n",
    "        return p\n",
    "\n",
    "    def profit(self, a, m, p):\n",
    "        pi = (1 + m * self.xi**(1 - self.epsilon) * self.tau**(-self.epsilon)) * p**(1 - self.epsilon) - 1 / a * (1 + (self.tau * self.xi)**(-self.epsilon)) * p**(-self.epsilon)\n",
    "        return pi\n",
    "\n",
    "    def T_value_operator(self, v, F, pi):\n",
    "        v_new = np.empty_like(v)\n",
    "        for i in range(len(v)):\n",
    "            for j in range(len(v)):\n",
    "                v_new[i, j] = pi[i] + self.beta * max(-F[j] + self.beta * self.G[i, :] @ self.v1 @ self.f1_probs, self.beta * self.G[i, :] @ self.v0 @ self.f0_probs)\n",
    "\n",
    "        return v_new\n",
    "\n",
    "    def policy(self, v, F):\n",
    "\n",
    "        m = np.empty(v.shape)\n",
    "\n",
    "        for i in range(len(v)):\n",
    "            for j in range(len(v)):\n",
    "                v1 = -F[j] + self.G[i, :] @ self.v1 @ self.f1_probs\n",
    "                v0 = self.G[i, :] @ self.v0 @ self.f0_probs\n",
    "                if v1 > v0:\n",
    "                    m[i, j] = 1\n",
    "                else:\n",
    "                    m[i, j] = 0\n",
    "        return m\n",
    "\n",
    "    def value_func_iteration(self):\n",
    "\n",
    "        i = 0\n",
    "        error = self.tol + 1\n",
    "\n",
    "        while i < self.max_iter and error > self.tol:\n",
    "            v0_new = self.T_value_operator(self.v0, self.F0, self.pi0)\n",
    "            v1_new = self.T_value_operator(self.v1, self.F1, self.pi1)\n",
    "            error = np.max(np.abs(self.v0 - v0_new)) + np.max(np.abs(self.v1 - v1_new))\n",
    "            if self.verbose and i % self.print_skip == 0:\n",
    "                print(f\"Error at iteration {i} is {error}.\")\n",
    "            self.v0 = v0_new\n",
    "            self.v1 = v1_new\n",
    "            i+=1\n",
    "\n",
    "        if i == self.max_iter:\n",
    "            print(\"Failed to converge!\")\n",
    "\n",
    "        if self.verbose and i < self.max_iter:\n",
    "            print(f\"\\nConverged in {i} iterations.\")\n",
    "\n",
    "        return self.v0, self.v1\n",
    "\n",
    "\n",
    "    def solve_model(self):\n",
    "        super().__post_init__()\n",
    "        v0, v1 = self.value_func_iteration()\n",
    "        m0 = self.policy(v0, self.F0)\n",
    "        m1 = self.policy(v1, self.F1)\n",
    "        esp = np.mean(self.pi1/self.pi0)\n",
    "        mei = self.xi**(1 - self.epsilon) * self.tau**(-self.epsilon)/(1 + self.xi**(1 - self.epsilon) * self.tau**(-self.epsilon))\n",
    "\n",
    "        return Result(\n",
    "            esp=esp,\n",
    "            a_vals=self.a_vals,\n",
    "            F0=self.F0,\n",
    "            F1=self.F1,\n",
    "            f0_probs=self.f0_probs,\n",
    "            f1_probs=self.f1_probs,\n",
    "            G=self.G,\n",
    "            sda=self.stationary_distribution_a,\n",
    "            v0=v0,\n",
    "            v1=v1,\n",
    "            m0=m0,\n",
    "            m1=m1,\n",
    "            pi0=self.pi0,\n",
    "            pi1=self.pi1,\n",
    "            mei=mei\n",
    "        )"
   ]
  },
  {
   "cell_type": "markdown",
   "metadata": {
    "pycharm": {
     "name": "#%% md\n"
    }
   },
   "source": [
    "Try it out"
   ]
  },
  {
   "cell_type": "code",
   "execution_count": 5,
   "metadata": {
    "pycharm": {
     "name": "#%%\n"
    },
    "scrolled": false
   },
   "outputs": [
    {
     "name": "stdout",
     "output_type": "stream",
     "text": [
      "Error at iteration 0 is 204424.3923856863.\n",
      "\n",
      "Converged in 88 iterations.\n"
     ]
    }
   ],
   "source": [
    "test = Tybout(\n",
    "    epsilon=4,\n",
    "    logabar=0,\n",
    "    v=0.2,\n",
    "    beta=0.9,\n",
    "    tau=1.1,\n",
    "    rho=0.9,\n",
    "    sigma=0.5,\n",
    "    xi=1.2,\n",
    "    f0=1000,\n",
    "    f1=500,\n",
    "    grid_size=100\n",
    ")\n",
    "res = test.solve_model()\n"
   ]
  },
  {
   "cell_type": "markdown",
   "source": [
    "## Question 1, Calibration\n",
    "Instead of export participation, I use start_rate and stop_rate, exporter sales premium, mean export intensity to calibrate the model."
   ],
   "metadata": {
    "collapsed": false,
    "pycharm": {
     "name": "#%% md\n"
    }
   }
  },
  {
   "cell_type": "code",
   "execution_count": 6,
   "outputs": [
    {
     "data": {
      "text/plain": "0.04983358249059988"
     },
     "execution_count": 6,
     "metadata": {},
     "output_type": "execute_result"
    },
    {
     "data": {
      "text/plain": "0.9234031311335439"
     },
     "execution_count": 6,
     "metadata": {},
     "output_type": "execute_result"
    },
    {
     "data": {
      "text/plain": "3.7898636359997506"
     },
     "execution_count": 6,
     "metadata": {},
     "output_type": "execute_result"
    },
    {
     "data": {
      "text/plain": "0.2832889438444258"
     },
     "execution_count": 6,
     "metadata": {},
     "output_type": "execute_result"
    }
   ],
   "source": [
    "start_rate = res.sda @ res.m0 @ res.f0_probs\n",
    "start_rate\n",
    "stop_rate = 1 - res.sda @ res.m1 @ res.f1_probs\n",
    "stop_rate\n",
    "res.esp\n",
    "res.mei"
   ],
   "metadata": {
    "collapsed": false,
    "pycharm": {
     "name": "#%%\n"
    }
   }
  },
  {
   "cell_type": "markdown",
   "source": [
    "## Question 2, graph"
   ],
   "metadata": {
    "collapsed": false,
    "pycharm": {
     "name": "#%% md\n"
    }
   }
  },
  {
   "cell_type": "code",
   "execution_count": 7,
   "metadata": {
    "pycharm": {
     "name": "#%%\n"
    }
   },
   "outputs": [
    {
     "data": {
      "text/plain": "<matplotlib.contour.QuadContourSet at 0x21796681848>"
     },
     "execution_count": 7,
     "metadata": {},
     "output_type": "execute_result"
    },
    {
     "data": {
      "text/plain": "<matplotlib.contour.QuadContourSet at 0x21796567f08>"
     },
     "execution_count": 7,
     "metadata": {},
     "output_type": "execute_result"
    },
    {
     "data": {
      "text/plain": "[Text(0, 0.5, 'F0'), Text(0.5, 0, 'a_vals')]"
     },
     "execution_count": 7,
     "metadata": {},
     "output_type": "execute_result"
    },
    {
     "data": {
      "text/plain": "Text(40, 10, 'export')"
     },
     "execution_count": 7,
     "metadata": {},
     "output_type": "execute_result"
    },
    {
     "data": {
      "text/plain": "Text(0, 150, 'do not export')"
     },
     "execution_count": 7,
     "metadata": {},
     "output_type": "execute_result"
    },
    {
     "data": {
      "text/plain": "<Figure size 864x432 with 1 Axes>",
      "image/png": "[encoded data removed]"
     },
     "metadata": {
      "needs_background": "light"
     },
     "output_type": "display_data"
    }
   ],
   "source": [
    "fig, ax = plt.subplots(figsize=(12, 6))\n",
    "tg, eg = np.meshgrid(res.a_vals, res.F0)\n",
    "lvls = (-0.5, 0.5, 1.5)\n",
    "ax.contourf(tg, eg, res.m0.T, levels=lvls, cmap=cm.winter, alpha=0.5)\n",
    "ax.contour(tg, eg, res.m0.T, colors='k', levels=lvls, linewidths=2)\n",
    "ax.set(xlabel='a_vals', ylabel='F0')\n",
    "ax.text(40, 10, 'export', fontsize=14)\n",
    "ax.text(0, 150, 'do not export', fontsize=14)\n",
    "plt.show()"
   ]
  },
  {
   "cell_type": "markdown",
   "source": [
    "## Question 3, graph"
   ],
   "metadata": {
    "collapsed": false,
    "pycharm": {
     "name": "#%% md\n"
    }
   }
  },
  {
   "cell_type": "code",
   "execution_count": 8,
   "metadata": {},
   "outputs": [
    {
     "data": {
      "text/plain": "[<matplotlib.lines.Line2D at 0x21796592f88>]"
     },
     "execution_count": 8,
     "metadata": {},
     "output_type": "execute_result"
    },
    {
     "data": {
      "text/plain": "[<matplotlib.lines.Line2D at 0x21796592688>]"
     },
     "execution_count": 8,
     "metadata": {},
     "output_type": "execute_result"
    },
    {
     "data": {
      "text/plain": "<matplotlib.legend.Legend at 0x21796b30f48>"
     },
     "execution_count": 8,
     "metadata": {},
     "output_type": "execute_result"
    },
    {
     "data": {
      "text/plain": "<Figure size 864x432 with 1 Axes>",
      "image/png": "[encoded data removed]"
     },
     "metadata": {
      "needs_background": "light"
     },
     "output_type": "display_data"
    }
   ],
   "source": [
    "exit_hazards = 1 - res.m1 @ res.f1_probs\n",
    "\n",
    "entry_hazards = res.m0 @ res.f0_probs\n",
    "\n",
    "fig, ax = plt.subplots(figsize=(12,6))\n",
    "ax.plot(res.a_vals, exit_hazards, label='exit hazards')\n",
    "ax.plot(res.a_vals, entry_hazards, label='entry hazards')\n",
    "ax.legend()\n",
    "plt.show()"
   ]
  },
  {
   "cell_type": "markdown",
   "source": [
    "## Question 4\n",
    "The relationship is $starter\\ rate*(1 - export\\ participation\\ rate) = stopper\\ rate*export\\ participation\\ rate$."
   ],
   "metadata": {
    "collapsed": false,
    "pycharm": {
     "name": "#%% md\n"
    }
   }
  },
  {
   "cell_type": "markdown",
   "source": [
    "## Question 5"
   ],
   "metadata": {
    "collapsed": false,
    "pycharm": {
     "name": "#%% md\n"
    }
   }
  }
 ],
 "metadata": {
  "kernelspec": {
   "display_name": "Python 3",
   "language": "python",
   "name": "python3"
  },
  "language_info": {
   "codemirror_mode": {
    "name": "ipython",
    "version": 3
   },
   "file_extension": ".py",
   "mimetype": "text/x-python",
   "name": "python",
   "nbconvert_exporter": "python",
   "pygments_lexer": "ipython3",
   "version": "3.7.6"
  }
 },
 "nbformat": 4,
 "nbformat_minor": 4
}