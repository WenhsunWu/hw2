{
 "cells": [
  {
   "cell_type": "markdown",
   "metadata": {},
   "source": [
    "First we do some imports"
   ]
  },
  {
   "cell_type": "code",
   "execution_count": 39,
   "metadata": {},
   "outputs": [],
   "source": [
    "from IPython.core.interactiveshell import InteractiveShell\n",
    "InteractiveShell.ast_node_interactivity = \"all\"\n",
    "import numpy as np\n",
    "import scipy as sp\n",
    "import pandas as pd\n",
    "import quantecon as qe\n",
    "import matplotlib.pyplot as plt\n",
    "%matplotlib inline\n",
    "from numba import njit, prange\n",
    "from mpl_toolkits.mplot3d.axes3d import Axes3D\n",
    "from matplotlib import cm\n",
    "from dataclasses import dataclass\n",
    "from typing import Any\n",
    "\n",
    "Array = Any\n",
    "Distribution = Any"
   ]
  },
  {
   "cell_type": "markdown",
   "metadata": {
    "pycharm": {
     "name": "#%% md\n"
    }
   },
   "source": [
    "Model setup: primitives"
   ]
  },
  {
   "cell_type": "code",
   "execution_count": 40,
   "metadata": {
    "pycharm": {
     "name": "#%%\n"
    }
   },
   "outputs": [],
   "source": [
    "@dataclass\n",
    "class Primitives:\n",
    "    \n",
    "    epsilon: float #price elasticity\n",
    "    logabar: float #shift parameter of Markov process\n",
    "    v: float #markup of fixed cost\n",
    "    beta: float #discount factor\n",
    "    tau: float #tariff\n",
    "    rho: float #persistent parameter of Markov process\n",
    "    sigma: float #std of Markov process\n",
    "    xi: float #shipping cost\n",
    "    f0: float #fixed export cost of starter\n",
    "    f1: float #fixed export cost of continue\n",
    "    grid_size: int #grid size of productivity and fixed cost\n",
    "\n",
    "    def f_probs(self, value, B, v, grid_size): # here I changed Fm(f) to (f/fmv)^(1/(1-v)), otherwise the prob is negative\n",
    "        prob = np.zeros(grid_size)\n",
    "        for i in range(len(value) - 1):\n",
    "            prob[i] = (value[i+1]/B)**(1/(1 - v)) - (value[i]/B)**(1/(1 - v))\n",
    "        return prob\n",
    "\n",
    "    def __post_init__(self):\n",
    "        self.mc = qe.markov.tauchen(\n",
    "                rho=self.rho, sigma_u=self.sigma, b=self.logabar, m=4, n=self.grid_size\n",
    "        )\n",
    "        self.a_vals = np.exp(self.mc.state_values)\n",
    "        # conditional probabilities\n",
    "        self.G = self.mc.P\n",
    "        self.stationary_distribution_a = self.mc.stationary_distributions.flatten()\n",
    "\n",
    "        self.F0 = np.linspace(0, self.f0*self.v, self.grid_size+1)\n",
    "        self.F1 = np.linspace(0, self.f1*self.v, self.grid_size+1)\n",
    "        self.f0_probs = self.f_probs(self.F0, self.f0*self.v, self.v, self.grid_size)\n",
    "        self.f1_probs = self.f_probs(self.F1, self.f1*self.v, self.v, self.grid_size)\n",
    "        self.F0 = self.F0[1:]\n",
    "        self.F1 = self.F1[1:]"
   ]
  },
  {
   "cell_type": "markdown",
   "metadata": {
    "pycharm": {
     "name": "#%% md\n"
    }
   },
   "source": [
    "Model setup: returns"
   ]
  },
  {
   "cell_type": "code",
   "execution_count": 41,
   "metadata": {
    "pycharm": {
     "name": "#%%\n"
    }
   },
   "outputs": [],
   "source": [
    "@dataclass\n",
    "class Result:\n",
    "    esp: float # exporter sales premium, here define as mean(pi(exporter)/pi(nonexporter)) with same a_value.\n",
    "    a_vals: Array #a values\n",
    "    F0: Array #cost of starters\n",
    "    F1: Array #cost of continue\n",
    "    f0_probs: Array #pdf of starters\n",
    "    f1_probs: Array #pdf of continue\n",
    "    G: Array #transition matrix of a_vals\n",
    "    sda: Array #stationary distribution of a\n",
    "    v0: Array # value function new starter\n",
    "    v1: Array # value function continuation\n",
    "    m0: Array # entry decision rule\n",
    "    m1: Array # continue decision rule\n",
    "    pi0: Array #revenue of non exporters\n",
    "    pi1: Array #revenue of exporters\n",
    "    mei: float # mean export intensity among exporters"
   ]
  },
  {
   "cell_type": "markdown",
   "metadata": {
    "pycharm": {
     "name": "#%% md\n"
    }
   },
   "source": [
    "Solving model"
   ]
  },
  {
   "cell_type": "code",
   "execution_count": 42,
   "metadata": {
    "pycharm": {
     "name": "#%%\n"
    }
   },
   "outputs": [],
   "source": [
    "@dataclass\n",
    "class Tybout(Primitives):\n",
    "    tol: float = 1e-6\n",
    "    max_iter: int = 1e4\n",
    "    verbose: bool = True\n",
    "    print_skip: int = 1e3\n",
    "\n",
    "    def __post_init__(self):\n",
    "        super().__post_init__()\n",
    "        self.p0 = np.zeros(self.grid_size)\n",
    "        self.p1 = np.zeros(self.grid_size)\n",
    "        self.pi0 = np.zeros(self.grid_size)\n",
    "        self.pi1 = np.zeros(self.grid_size)\n",
    "        for i in range(len(self.a_vals)):\n",
    "            self.p0[i] = self.price(self.a_vals[i], 0)\n",
    "            self.p1[i] = self.price(self.a_vals[i], 1)\n",
    "            self.pi0[i] = self.profit(self.a_vals[i], 0, self.p0[i])\n",
    "            self.pi1[i] = self.profit(self.a_vals[i], 1, self.p1[i])\n",
    "        self.v0 = np.ones((self.grid_size, self.grid_size))\n",
    "        self.v1 = np.ones((self.grid_size, self.grid_size))\n",
    "\n",
    "    def price(self, a, m):\n",
    "        p = self.epsilon/(a * (self.epsilon - 1))*(1 + (self.tau * self.xi)**(-self.epsilon))/(1 + m * self.xi**(1 - self.epsilon) * self.tau**(-self.epsilon))\n",
    "        return p\n",
    "\n",
    "    def profit(self, a, m, p):\n",
    "        pi = (1 + m * self.xi**(1 - self.epsilon) * self.tau**(-self.epsilon)) * p**(1 - self.epsilon) - 1 / a * (1 + (self.tau * self.xi)**(-self.epsilon)) * p**(-self.epsilon)\n",
    "        return pi\n",
    "\n",
    "    def T_value_operator(self, v, F, pi):\n",
    "        v_new = np.empty_like(v)\n",
    "        for i in range(len(v)):\n",
    "            for j in range(len(v)):\n",
    "                v_new[i, j] = pi[i] + self.beta * max(-F[j] + self.beta * self.G[i, :] @ self.v1 @ self.f1_probs, self.beta * self.G[i, :] @ self.v0 @ self.f0_probs)\n",
    "\n",
    "        return v_new\n",
    "\n",
    "    def policy(self, v, F):\n",
    "\n",
    "        m = np.empty(v.shape)\n",
    "\n",
    "        for i in range(len(v)):\n",
    "            for j in range(len(v)):\n",
    "                v1 = -F[j] + self.G[i, :] @ self.v1 @ self.f1_probs\n",
    "                v0 = self.G[i, :] @ self.v0 @ self.f0_probs\n",
    "                if v1 > v0:\n",
    "                    m[i, j] = 1\n",
    "                else:\n",
    "                    m[i, j] = 0\n",
    "        return m\n",
    "\n",
    "    def value_func_iteration(self):\n",
    "\n",
    "        i = 0\n",
    "        error = self.tol + 1\n",
    "\n",
    "        while i < self.max_iter and error > self.tol:\n",
    "            v0_new = self.T_value_operator(self.v0, self.F0, self.pi0)\n",
    "            v1_new = self.T_value_operator(self.v1, self.F1, self.pi1)\n",
    "            error = np.max(np.abs(self.v0 - v0_new)) + np.max(np.abs(self.v1 - v1_new))\n",
    "            if self.verbose and i % self.print_skip == 0:\n",
    "                print(f\"Error at iteration {i} is {error}.\")\n",
    "            self.v0 = v0_new\n",
    "            self.v1 = v1_new\n",
    "            i+=1\n",
    "\n",
    "        if i == self.max_iter:\n",
    "            print(\"Failed to converge!\")\n",
    "\n",
    "        if self.verbose and i < self.max_iter:\n",
    "            print(f\"\\nConverged in {i} iterations.\")\n",
    "\n",
    "        return self.v0, self.v1\n",
    "\n",
    "\n",
    "    def solve_model(self):\n",
    "        super().__post_init__()\n",
    "        v0, v1 = self.value_func_iteration()\n",
    "        m0 = self.policy(v0, self.F0)\n",
    "        m1 = self.policy(v1, self.F1)\n",
    "        esp = np.mean(self.pi1/self.pi0)\n",
    "        mei = self.xi**(1 - self.epsilon) * self.tau**(-self.epsilon)/(1 + self.xi**(1 - self.epsilon) * self.tau**(-self.epsilon))\n",
    "\n",
    "        return Result(\n",
    "            esp=esp,\n",
    "            a_vals=self.a_vals,\n",
    "            F0=self.F0,\n",
    "            F1=self.F1,\n",
    "            f0_probs=self.f0_probs,\n",
    "            f1_probs=self.f1_probs,\n",
    "            G=self.G,\n",
    "            sda=self.stationary_distribution_a,\n",
    "            v0=v0,\n",
    "            v1=v1,\n",
    "            m0=m0,\n",
    "            m1=m1,\n",
    "            pi0=self.pi0,\n",
    "            pi1=self.pi1,\n",
    "            mei=mei\n",
    "        )"
   ]
  },
  {
   "cell_type": "markdown",
   "metadata": {
    "pycharm": {
     "name": "#%% md\n"
    }
   },
   "source": [
    "Try it out"
   ]
  },
  {
   "cell_type": "code",
   "execution_count": 43,
   "metadata": {
    "pycharm": {
     "name": "#%%\n"
    },
    "scrolled": false
   },
   "outputs": [
    {
     "name": "stdout",
     "output_type": "stream",
     "text": [
      "Error at iteration 0 is 204424.3923856863.\n",
      "\n",
      "Converged in 89 iterations.\n"
     ]
    }
   ],
   "source": [
    "test = Tybout(\n",
    "    epsilon=4,\n",
    "    logabar=0,\n",
    "    v=0.2,\n",
    "    beta=0.9,\n",
    "    tau=1.1,\n",
    "    rho=0.9,\n",
    "    sigma=0.5,\n",
    "    xi=1.2,\n",
    "    f0=1,\n",
    "    f1=0.5,\n",
    "    grid_size=100\n",
    ")\n",
    "res = test.solve_model()\n",
    "\n"
   ]
  },
  {
   "cell_type": "code",
   "execution_count": 44,
   "metadata": {
    "pycharm": {
     "name": "#%%\n"
    }
   },
   "outputs": [
    {
     "data": {
      "text/plain": "<matplotlib.contour.QuadContourSet at 0x1c933664588>"
     },
     "execution_count": 44,
     "metadata": {},
     "output_type": "execute_result"
    },
    {
     "data": {
      "text/plain": "<matplotlib.contour.QuadContourSet at 0x1c933b1e448>"
     },
     "execution_count": 44,
     "metadata": {},
     "output_type": "execute_result"
    },
    {
     "data": {
      "text/plain": "[Text(0, 0.5, 'F0'), Text(0.5, 0, 'a_vals')]"
     },
     "execution_count": 44,
     "metadata": {},
     "output_type": "execute_result"
    },
    {
     "data": {
      "text/plain": "Text(40, 0.05, 'export')"
     },
     "execution_count": 44,
     "metadata": {},
     "output_type": "execute_result"
    },
    {
     "data": {
      "text/plain": "Text(40, 0.15, 'do not export')"
     },
     "execution_count": 44,
     "metadata": {},
     "output_type": "execute_result"
    },
    {
     "data": {
      "text/plain": "<Figure size 432x432 with 1 Axes>",
      "image/png": "[encoded data removed]"
     },
     "metadata": {
      "needs_background": "light"
     },
     "output_type": "display_data"
    }
   ],
   "source": [
    "fig, ax = plt.subplots(figsize=(6, 6))\n",
    "tg, eg = np.meshgrid(res.a_vals, res.F0)\n",
    "lvls = (-0.5, 0.5, 1.5)\n",
    "ax.contourf(tg, eg, res.m0, levels=lvls, cmap=cm.winter, alpha=0.5)\n",
    "ax.contour(tg, eg, res.m0, colors='k', levels=lvls, linewidths=2)\n",
    "ax.set(xlabel='a_vals', ylabel='F0')\n",
    "ax.text(40, 0.05, 'export', fontsize=14) #change text position according to your choice of f0 and f1\n",
    "ax.text(40, 0.15, 'do not export', fontsize=14)\n",
    "plt.show()"
   ]
  },
  {
   "cell_type": "code",
   "execution_count": 45,
   "outputs": [
    {
     "data": {
      "text/plain": "array([1.01699836e-02, 1.11577445e-02, 1.22414417e-02, 1.34303931e-02,\n       1.47348215e-02, 1.61659428e-02, 1.77360618e-02, 1.94586788e-02,\n       2.13486052e-02, 2.34220909e-02, 2.56969642e-02, 2.81927848e-02,\n       3.09310122e-02, 3.39351903e-02, 3.72311495e-02, 4.08472291e-02,\n       4.48145209e-02, 4.91671364e-02, 5.39425001e-02, 5.91816716e-02,\n       6.49296982e-02, 7.12360025e-02, 7.81548073e-02, 8.57456019e-02,\n       9.40736533e-02, 1.03210568e-01, 1.13234906e-01, 1.24232859e-01,\n       1.36298989e-01, 1.49537044e-01, 1.64060847e-01, 1.79995275e-01,\n       1.97477337e-01, 2.16657346e-01, 2.37700215e-01, 2.60786876e-01,\n       2.86115831e-01, 3.13904863e-01, 3.44392909e-01, 3.77842109e-01,\n       4.14540067e-01, 4.54802318e-01, 4.98975045e-01, 5.47438054e-01,\n       6.00608037e-01, 6.58942161e-01, 7.22941994e-01, 7.93157817e-01,\n       8.70193360e-01, 9.54710990e-01, 1.04743740e+00, 1.14916988e+00,\n       1.26078314e+00, 1.38323684e+00, 1.51758388e+00, 1.66497938e+00,\n       1.82669070e+00, 2.00410824e+00, 2.19875748e+00, 2.41231205e+00,\n       2.64660813e+00, 2.90366025e+00, 3.18567858e+00, 3.49508798e+00,\n       3.83454880e+00, 4.20697979e+00, 4.61558318e+00, 5.06387222e+00,\n       5.55570139e+00, 6.09529952e+00, 6.68730618e+00, 7.33681155e+00,\n       8.04940021e+00, 8.83119912e+00, 9.68893034e+00, 1.06299688e+01,\n       1.16624057e+01, 1.27951182e+01, 1.40378455e+01, 1.54012729e+01,\n       1.68971233e+01, 1.85382583e+01, 2.03387888e+01, 2.23141959e+01,\n       2.44814647e+01, 2.68592298e+01, 2.94679356e+01, 3.23300122e+01,\n       3.54700683e+01, 3.89151027e+01, 4.26947365e+01, 4.68414676e+01,\n       5.13909505e+01, 5.63823024e+01, 6.18584400e+01, 6.78664480e+01,\n       7.44579845e+01, 8.16897247e+01, 8.96238486e+01, 9.83285751e+01])"
     },
     "execution_count": 45,
     "metadata": {},
     "output_type": "execute_result"
    }
   ],
   "source": [
    "res.a_vals"
   ],
   "metadata": {
    "collapsed": false,
    "pycharm": {
     "name": "#%%\n"
    }
   }
  },
  {
   "cell_type": "code",
   "execution_count": null,
   "metadata": {},
   "outputs": [],
   "source": []
  }
 ],
 "metadata": {
  "kernelspec": {
   "display_name": "Python 3",
   "language": "python",
   "name": "python3"
  },
  "language_info": {
   "codemirror_mode": {
    "name": "ipython",
    "version": 3
   },
   "file_extension": ".py",
   "mimetype": "text/x-python",
   "name": "python",
   "nbconvert_exporter": "python",
   "pygments_lexer": "ipython3",
   "version": "3.7.6"
  }
 },
 "nbformat": 4,
 "nbformat_minor": 4
}