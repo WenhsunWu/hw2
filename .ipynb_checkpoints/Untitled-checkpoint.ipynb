{
 "cells": [
  {
   "cell_type": "markdown",
   "metadata": {},
   "source": [
    "First we do some importsm"
   ]
  },
  {
   "cell_type": "code",
   "execution_count": 1,
   "metadata": {},
   "outputs": [],
   "source": [
    "import numpy as np\n",
    "import scipy as sp\n",
    "import pandas as pd\n",
    "import quantecon as qe\n",
    "import matplotlib.pyplot as plt\n",
    "%matplotlib inline\n",
    "from numba import njit, prange\n",
    "from mpl_toolkits.mplot3d.axes3d import Axes3D\n",
    "from matplotlib import cm\n",
    "from dataclasses import dataclass\n",
    "from typing import Any\n",
    "\n",
    "Array = Any\n",
    "Distribution = Any"
   ]
  },
  {
   "cell_type": "markdown",
   "metadata": {
    "pycharm": {
     "name": "#%% md\n"
    }
   },
   "source": [
    "Model setup: primitives"
   ]
  },
  {
   "cell_type": "code",
   "execution_count": 2,
   "metadata": {
    "pycharm": {
     "name": "#%%\n"
    }
   },
   "outputs": [],
   "source": [
    "@dataclass\n",
    "class Primitives:\n",
    "    \n",
    "    epsilon: float #price elasticity\n",
    "    logabar: float #shift parameter of Markov process\n",
    "    v: float #markup of fixed cost\n",
    "    beta: float #discount factor\n",
    "    tau: float #tariff\n",
    "    rho: float #persistent parameter of Markov process\n",
    "    sigma: float #std of Markov process\n",
    "    xi: float #shipping cost\n",
    "    f0: float #fixed export cost of starter\n",
    "    f1: float #fixed export cost of continue\n",
    "    grid_size: int #grid size of productivity and fixed cost\n",
    "\n",
    "    def f_probs(self, value, B, v, grid_size):\n",
    "        prob = np.zeros(grid_size)\n",
    "        for i in range(len(value)):\n",
    "            prob[i] = 1 / (v - 1) * (1 / B) ** (1 / (v - 1)) * value[i] ** (1 / (v - 1) - 1)\n",
    "        return prob\n",
    "\n",
    "    def __post_init__(self):\n",
    "        self.mc = qe.markov.tauchen(\n",
    "                rho=self.rho, sigma_u=self.sigma, b=self.logabar, m=4, n=self.grid_size\n",
    "        )\n",
    "        self.a_vals = np.exp(self.mc.state_values)\n",
    "        # conditional probabilities\n",
    "        self.G = self.mc.P\n",
    "        self.stationary_distribution_a = self.mc.stationary_distributions.flatten()\n",
    "\n",
    "        self.F0 = np.linspace(0, self.f0*self.v, self.grid_size+1)[1:]\n",
    "        self.F1 = np.linspace(0, self.f1*self.v, self.grid_size+1)[1:]\n",
    "        self.f0_probs = self.f_probs(self.F0, self.f0*self.v, self.v, self.grid_size)\n",
    "        self.f1_probs = self.f_probs(self.F1, self.f1*self.v, self.v, self.grid_size)"
   ]
  },
  {
   "cell_type": "markdown",
   "metadata": {
    "pycharm": {
     "name": "#%% md\n"
    }
   },
   "source": [
    "Model setup: returns"
   ]
  },
  {
   "cell_type": "code",
   "execution_count": 3,
   "metadata": {
    "pycharm": {
     "name": "#%%\n"
    }
   },
   "outputs": [],
   "source": [
    "@dataclass\n",
    "class Result:\n",
    "    esp: float # exporter sales premium, here define as mean(pi(exporter)/pi(nonexporter)) with same a_value.\n",
    "    a_vals: Array #a values\n",
    "    F0: Array #cost of starters\n",
    "    F1: Array #cost of continue\n",
    "    f0_probs: Array #pdf of starters\n",
    "    f1_probs: Array #pdf of continue\n",
    "    G: Array #transition matrix of a_vals\n",
    "    sda: Array #stationary distribution of a\n",
    "    v0: Array # value function new starter\n",
    "    v1: Array # value function continuation\n",
    "    m0: Array # entry decision rule\n",
    "    m1: Array # continue decision rule\n",
    "    mei: float # mean export intensity among exporters"
   ]
  },
  {
   "cell_type": "markdown",
   "metadata": {
    "pycharm": {
     "name": "#%% md\n"
    }
   },
   "source": [
    "Solving model"
   ]
  },
  {
   "cell_type": "code",
   "execution_count": 4,
   "metadata": {
    "pycharm": {
     "name": "#%%\n"
    }
   },
   "outputs": [],
   "source": [
    "@dataclass\n",
    "class Tybout(Primitives):\n",
    "    tol: float = 1e-6\n",
    "    max_iter: int = 1e4\n",
    "    verbose: bool = True\n",
    "    print_skip: int = 1e3\n",
    "\n",
    "    def __post_init__(self):\n",
    "        super().__post_init__()\n",
    "        self.p0 = np.zeros(self.grid_size)\n",
    "        self.p1 = np.zeros(self.grid_size)\n",
    "        self.pi0 = np.zeros(self.grid_size)\n",
    "        self.pi1 = np.zeros(self.grid_size)\n",
    "        for i in range(len(self.a_vals)):\n",
    "            self.p0[i] = self.price(self.a_vals[i], 0)\n",
    "            self.p1[i] = self.price(self.a_vals[i], 1)\n",
    "            self.pi0[i] = self.profit(self.a_vals[i], 0, self.p0[i])\n",
    "            self.pi1[i] = self.profit(self.a_vals[i], 1, self.p1[i])\n",
    "        self.v0 = np.ones((self.grid_size, self.grid_size))\n",
    "        self.v1 = np.ones((self.grid_size, self.grid_size))\n",
    "\n",
    "    def price(self, a, m):\n",
    "        p = self.epsilon/(a * (self.epsilon - 1))*(1 + (self.tau * self.xi)**(-self.epsilon))/(1 + m * self.xi**(1 - self.epsilon) * self.tau**(-self.epsilon))\n",
    "        return p\n",
    "\n",
    "    def profit(self, a, m, p):\n",
    "        pi = (1 + m * self.xi**(1 - self.epsilon) * self.tau**(-self.epsilon)) * p**(1 - self.epsilon) - 1 / a * (1 + (self.tau * self.xi)**(-self.epsilon)) * p**(-self.epsilon)\n",
    "        return pi\n",
    "\n",
    "    def T_value_operator(self, v, F, pi):\n",
    "        v_new = np.empty_like(v)\n",
    "        for i in range(len(v)):\n",
    "            for j in range(len(v)):\n",
    "                v_new[i][j] = pi[i] + self.beta * max(-F[j] + self.beta * self.G[i:] @ self.v1 @ self.f1_probs, self.beta * self.G[i:] @ self.v0 @ self.f0_probs)\n",
    "\n",
    "        return v_new\n",
    "\n",
    "    def policy(self, v, F):\n",
    "\n",
    "        m = np.empty(v.shape)\n",
    "\n",
    "        for i in range(len(v)):\n",
    "            for j in range(len(v)):\n",
    "                v1 = -F[j] + self.G[i:] @ self.v1 @ self.f1_probs\n",
    "                v0 = self.G[i:] @ self.v0 @ self.f0_probs\n",
    "                if v1 > v0:\n",
    "                    m[i][j] = 1\n",
    "                else:\n",
    "                    m[i][j] = 0\n",
    "        return m\n",
    "\n",
    "    def value_func_iteration(self):\n",
    "\n",
    "        i = 0\n",
    "        error = self.tol + 1\n",
    "\n",
    "        while i < self.max_iter and error > self.tol:\n",
    "            v0_new = self.T_value_operator(self.v0, self.F0, self.pi0)\n",
    "            v1_new = self.T_value_operator(self.v1, self.F1, self.pi1)\n",
    "            error = np.max(np.abs(self.v0 - v0_new), np.abs(self.v1 - v1_new))\n",
    "            if self.verbose and i % self.print_skip == 0:\n",
    "                print(f\"Error at iteration {i} is {error}.\")\n",
    "            self.v0 = v0_new\n",
    "            self.v1 = v1_new\n",
    "\n",
    "        if i == self.max_iter:\n",
    "            print(\"Failed to converge!\")\n",
    "\n",
    "        if self.verbose and i < self.max_iter:\n",
    "            print(f\"\\nConverged in {i} iterations.\")\n",
    "\n",
    "        return self.v0, self.v1\n",
    "\n",
    "\n",
    "    def solve_model(self):\n",
    "        super().__post_init__()\n",
    "        v0, v1 = self.value_func_iteration()\n",
    "        m0 = self.policy(v0, self.F0)\n",
    "        m1 = self.policy(v1, self.F1)\n",
    "        esp = np.mean(self.pi1/self.pi0)\n",
    "        mei = self.xi**(1 - self.epsilon) * self.tau**(-self.epsilon)/(1 + self.xi**(1 - self.epsilon) * self.tau**(-self.epsilon))\n",
    "\n",
    "        return Result(\n",
    "            esp=esp,\n",
    "            a_vals=self.a_vals,\n",
    "            F0=self.F0,\n",
    "            F1=self.F1,\n",
    "            f0_probs=self.f0_probs,\n",
    "            f1_probs=self.f1_probs,\n",
    "            G=self.G,\n",
    "            sda=self.stationary_distribution_a,\n",
    "            v0=v0,\n",
    "            v1=v1,\n",
    "            m0=m0,\n",
    "            m1=m1,\n",
    "            mei=mei\n",
    "        )"
   ]
  },
  {
   "cell_type": "markdown",
   "metadata": {
    "pycharm": {
     "name": "#%% md\n"
    }
   },
   "source": [
    "Try it out"
   ]
  },
  {
   "cell_type": "code",
   "execution_count": 5,
   "metadata": {
    "pycharm": {
     "name": "#%%\n"
    }
   },
   "outputs": [
    {
     "ename": "ValueError",
     "evalue": "The truth value of an array with more than one element is ambiguous. Use a.any() or a.all()",
     "output_type": "error",
     "traceback": [
      "\u001b[1;31m---------------------------------------------------------------------------\u001b[0m",
      "\u001b[1;31mValueError\u001b[0m                                Traceback (most recent call last)",
      "\u001b[1;32m<ipython-input-5-2a57d3f549f1>\u001b[0m in \u001b[0;36m<module>\u001b[1;34m\u001b[0m\n\u001b[0;32m     12\u001b[0m     \u001b[0mgrid_size\u001b[0m\u001b[1;33m=\u001b[0m\u001b[1;36m50\u001b[0m\u001b[1;33m\u001b[0m\u001b[1;33m\u001b[0m\u001b[0m\n\u001b[0;32m     13\u001b[0m )\n\u001b[1;32m---> 14\u001b[1;33m \u001b[0mres\u001b[0m \u001b[1;33m=\u001b[0m \u001b[0mtest\u001b[0m\u001b[1;33m.\u001b[0m\u001b[0msolve_model\u001b[0m\u001b[1;33m(\u001b[0m\u001b[1;33m)\u001b[0m\u001b[1;33m\u001b[0m\u001b[1;33m\u001b[0m\u001b[0m\n\u001b[0m\u001b[0;32m     15\u001b[0m \u001b[1;33m\u001b[0m\u001b[0m\n",
      "\u001b[1;32m<ipython-input-4-ba065fa8898a>\u001b[0m in \u001b[0;36msolve_model\u001b[1;34m(self)\u001b[0m\n\u001b[0;32m     75\u001b[0m     \u001b[1;32mdef\u001b[0m \u001b[0msolve_model\u001b[0m\u001b[1;33m(\u001b[0m\u001b[0mself\u001b[0m\u001b[1;33m)\u001b[0m\u001b[1;33m:\u001b[0m\u001b[1;33m\u001b[0m\u001b[1;33m\u001b[0m\u001b[0m\n\u001b[0;32m     76\u001b[0m         \u001b[0msuper\u001b[0m\u001b[1;33m(\u001b[0m\u001b[1;33m)\u001b[0m\u001b[1;33m.\u001b[0m\u001b[0m__post_init__\u001b[0m\u001b[1;33m(\u001b[0m\u001b[1;33m)\u001b[0m\u001b[1;33m\u001b[0m\u001b[1;33m\u001b[0m\u001b[0m\n\u001b[1;32m---> 77\u001b[1;33m         \u001b[0mv0\u001b[0m\u001b[1;33m,\u001b[0m \u001b[0mv1\u001b[0m \u001b[1;33m=\u001b[0m \u001b[0mself\u001b[0m\u001b[1;33m.\u001b[0m\u001b[0mvalue_func_iteration\u001b[0m\u001b[1;33m(\u001b[0m\u001b[1;33m)\u001b[0m\u001b[1;33m\u001b[0m\u001b[1;33m\u001b[0m\u001b[0m\n\u001b[0m\u001b[0;32m     78\u001b[0m         \u001b[0mm0\u001b[0m \u001b[1;33m=\u001b[0m \u001b[0mself\u001b[0m\u001b[1;33m.\u001b[0m\u001b[0mpolicy\u001b[0m\u001b[1;33m(\u001b[0m\u001b[0mv0\u001b[0m\u001b[1;33m,\u001b[0m \u001b[0mself\u001b[0m\u001b[1;33m.\u001b[0m\u001b[0mF0\u001b[0m\u001b[1;33m)\u001b[0m\u001b[1;33m\u001b[0m\u001b[1;33m\u001b[0m\u001b[0m\n\u001b[0;32m     79\u001b[0m         \u001b[0mm1\u001b[0m \u001b[1;33m=\u001b[0m \u001b[0mself\u001b[0m\u001b[1;33m.\u001b[0m\u001b[0mpolicy\u001b[0m\u001b[1;33m(\u001b[0m\u001b[0mv1\u001b[0m\u001b[1;33m,\u001b[0m \u001b[0mself\u001b[0m\u001b[1;33m.\u001b[0m\u001b[0mF1\u001b[0m\u001b[1;33m)\u001b[0m\u001b[1;33m\u001b[0m\u001b[1;33m\u001b[0m\u001b[0m\n",
      "\u001b[1;32m<ipython-input-4-ba065fa8898a>\u001b[0m in \u001b[0;36mvalue_func_iteration\u001b[1;34m(self)\u001b[0m\n\u001b[0;32m     56\u001b[0m \u001b[1;33m\u001b[0m\u001b[0m\n\u001b[0;32m     57\u001b[0m         \u001b[1;32mwhile\u001b[0m \u001b[0mi\u001b[0m \u001b[1;33m<\u001b[0m \u001b[0mself\u001b[0m\u001b[1;33m.\u001b[0m\u001b[0mmax_iter\u001b[0m \u001b[1;32mand\u001b[0m \u001b[0merror\u001b[0m \u001b[1;33m>\u001b[0m \u001b[0mself\u001b[0m\u001b[1;33m.\u001b[0m\u001b[0mtol\u001b[0m\u001b[1;33m:\u001b[0m\u001b[1;33m\u001b[0m\u001b[1;33m\u001b[0m\u001b[0m\n\u001b[1;32m---> 58\u001b[1;33m             \u001b[0mv0_new\u001b[0m \u001b[1;33m=\u001b[0m \u001b[0mself\u001b[0m\u001b[1;33m.\u001b[0m\u001b[0mT_value_operator\u001b[0m\u001b[1;33m(\u001b[0m\u001b[0mself\u001b[0m\u001b[1;33m.\u001b[0m\u001b[0mv0\u001b[0m\u001b[1;33m,\u001b[0m \u001b[0mself\u001b[0m\u001b[1;33m.\u001b[0m\u001b[0mF0\u001b[0m\u001b[1;33m,\u001b[0m \u001b[0mself\u001b[0m\u001b[1;33m.\u001b[0m\u001b[0mpi0\u001b[0m\u001b[1;33m)\u001b[0m\u001b[1;33m\u001b[0m\u001b[1;33m\u001b[0m\u001b[0m\n\u001b[0m\u001b[0;32m     59\u001b[0m             \u001b[0mv1_new\u001b[0m \u001b[1;33m=\u001b[0m \u001b[0mself\u001b[0m\u001b[1;33m.\u001b[0m\u001b[0mT_value_operator\u001b[0m\u001b[1;33m(\u001b[0m\u001b[0mself\u001b[0m\u001b[1;33m.\u001b[0m\u001b[0mv1\u001b[0m\u001b[1;33m,\u001b[0m \u001b[0mself\u001b[0m\u001b[1;33m.\u001b[0m\u001b[0mF1\u001b[0m\u001b[1;33m,\u001b[0m \u001b[0mself\u001b[0m\u001b[1;33m.\u001b[0m\u001b[0mpi1\u001b[0m\u001b[1;33m)\u001b[0m\u001b[1;33m\u001b[0m\u001b[1;33m\u001b[0m\u001b[0m\n\u001b[0;32m     60\u001b[0m             \u001b[0merror\u001b[0m \u001b[1;33m=\u001b[0m \u001b[0mnp\u001b[0m\u001b[1;33m.\u001b[0m\u001b[0mmax\u001b[0m\u001b[1;33m(\u001b[0m\u001b[0mnp\u001b[0m\u001b[1;33m.\u001b[0m\u001b[0mabs\u001b[0m\u001b[1;33m(\u001b[0m\u001b[0mself\u001b[0m\u001b[1;33m.\u001b[0m\u001b[0mv0\u001b[0m \u001b[1;33m-\u001b[0m \u001b[0mv0_new\u001b[0m\u001b[1;33m)\u001b[0m\u001b[1;33m,\u001b[0m \u001b[0mnp\u001b[0m\u001b[1;33m.\u001b[0m\u001b[0mabs\u001b[0m\u001b[1;33m(\u001b[0m\u001b[0mself\u001b[0m\u001b[1;33m.\u001b[0m\u001b[0mv1\u001b[0m \u001b[1;33m-\u001b[0m \u001b[0mv1_new\u001b[0m\u001b[1;33m)\u001b[0m\u001b[1;33m)\u001b[0m\u001b[1;33m\u001b[0m\u001b[1;33m\u001b[0m\u001b[0m\n",
      "\u001b[1;32m<ipython-input-4-ba065fa8898a>\u001b[0m in \u001b[0;36mT_value_operator\u001b[1;34m(self, v, F, pi)\u001b[0m\n\u001b[0;32m     32\u001b[0m         \u001b[1;32mfor\u001b[0m \u001b[0mi\u001b[0m \u001b[1;32min\u001b[0m \u001b[0mrange\u001b[0m\u001b[1;33m(\u001b[0m\u001b[0mlen\u001b[0m\u001b[1;33m(\u001b[0m\u001b[0mv\u001b[0m\u001b[1;33m)\u001b[0m\u001b[1;33m)\u001b[0m\u001b[1;33m:\u001b[0m\u001b[1;33m\u001b[0m\u001b[1;33m\u001b[0m\u001b[0m\n\u001b[0;32m     33\u001b[0m             \u001b[1;32mfor\u001b[0m \u001b[0mj\u001b[0m \u001b[1;32min\u001b[0m \u001b[0mrange\u001b[0m\u001b[1;33m(\u001b[0m\u001b[0mlen\u001b[0m\u001b[1;33m(\u001b[0m\u001b[0mv\u001b[0m\u001b[1;33m)\u001b[0m\u001b[1;33m)\u001b[0m\u001b[1;33m:\u001b[0m\u001b[1;33m\u001b[0m\u001b[1;33m\u001b[0m\u001b[0m\n\u001b[1;32m---> 34\u001b[1;33m                 \u001b[0mv_new\u001b[0m\u001b[1;33m[\u001b[0m\u001b[0mi\u001b[0m\u001b[1;33m]\u001b[0m\u001b[1;33m[\u001b[0m\u001b[0mj\u001b[0m\u001b[1;33m]\u001b[0m \u001b[1;33m=\u001b[0m \u001b[0mpi\u001b[0m\u001b[1;33m[\u001b[0m\u001b[0mi\u001b[0m\u001b[1;33m]\u001b[0m \u001b[1;33m+\u001b[0m \u001b[0mself\u001b[0m\u001b[1;33m.\u001b[0m\u001b[0mbeta\u001b[0m \u001b[1;33m*\u001b[0m \u001b[0mmax\u001b[0m\u001b[1;33m(\u001b[0m\u001b[1;33m-\u001b[0m\u001b[0mF\u001b[0m\u001b[1;33m[\u001b[0m\u001b[0mj\u001b[0m\u001b[1;33m]\u001b[0m \u001b[1;33m+\u001b[0m \u001b[0mself\u001b[0m\u001b[1;33m.\u001b[0m\u001b[0mbeta\u001b[0m \u001b[1;33m*\u001b[0m \u001b[0mself\u001b[0m\u001b[1;33m.\u001b[0m\u001b[0mG\u001b[0m\u001b[1;33m[\u001b[0m\u001b[0mi\u001b[0m\u001b[1;33m:\u001b[0m\u001b[1;33m]\u001b[0m \u001b[1;33m@\u001b[0m \u001b[0mself\u001b[0m\u001b[1;33m.\u001b[0m\u001b[0mv1\u001b[0m \u001b[1;33m@\u001b[0m \u001b[0mself\u001b[0m\u001b[1;33m.\u001b[0m\u001b[0mf1_probs\u001b[0m\u001b[1;33m,\u001b[0m \u001b[0mself\u001b[0m\u001b[1;33m.\u001b[0m\u001b[0mbeta\u001b[0m \u001b[1;33m*\u001b[0m \u001b[0mself\u001b[0m\u001b[1;33m.\u001b[0m\u001b[0mG\u001b[0m\u001b[1;33m[\u001b[0m\u001b[0mi\u001b[0m\u001b[1;33m:\u001b[0m\u001b[1;33m]\u001b[0m \u001b[1;33m@\u001b[0m \u001b[0mself\u001b[0m\u001b[1;33m.\u001b[0m\u001b[0mv0\u001b[0m \u001b[1;33m@\u001b[0m \u001b[0mself\u001b[0m\u001b[1;33m.\u001b[0m\u001b[0mf0_probs\u001b[0m\u001b[1;33m)\u001b[0m\u001b[1;33m\u001b[0m\u001b[1;33m\u001b[0m\u001b[0m\n\u001b[0m\u001b[0;32m     35\u001b[0m \u001b[1;33m\u001b[0m\u001b[0m\n\u001b[0;32m     36\u001b[0m         \u001b[1;32mreturn\u001b[0m \u001b[0mv_new\u001b[0m\u001b[1;33m\u001b[0m\u001b[1;33m\u001b[0m\u001b[0m\n",
      "\u001b[1;31mValueError\u001b[0m: The truth value of an array with more than one element is ambiguous. Use a.any() or a.all()"
     ]
    }
   ],
   "source": [
    "test = Tybout(\n",
    "    epsilon=4,\n",
    "    logabar=0,\n",
    "    v=0.2,\n",
    "    beta=0.9,\n",
    "    tau=1.1,\n",
    "    rho=0.9,\n",
    "    sigma=0.5,\n",
    "    xi=1.2,\n",
    "    f0=1,\n",
    "    f1=0.5,\n",
    "    grid_size=50\n",
    ")\n",
    "res = test.solve_model()\n",
    "\n"
   ]
  },
  {
   "cell_type": "code",
   "execution_count": null,
   "metadata": {},
   "outputs": [],
   "source": []
  }
 ],
 "metadata": {
  "kernelspec": {
   "display_name": "Python 3",
   "language": "python",
   "name": "python3"
  },
  "language_info": {
   "codemirror_mode": {
    "name": "ipython",
    "version": 3
   },
   "file_extension": ".py",
   "mimetype": "text/x-python",
   "name": "python",
   "nbconvert_exporter": "python",
   "pygments_lexer": "ipython3",
   "version": "3.7.6"
  }
 },
 "nbformat": 4,
 "nbformat_minor": 4
}
